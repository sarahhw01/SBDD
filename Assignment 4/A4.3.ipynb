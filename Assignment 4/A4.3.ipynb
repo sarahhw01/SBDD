{
 "cells": [
  {
   "cell_type": "markdown",
   "source": [
    "## A.4.3: Lead ID: HTS Data Analysis\n",
    "\n",
    "High-throughput screening (HTS) is the experimental standard procedure to search for hits. Common HTS screening plates consist of 384 wells, which are arranged in 16 rows and 24 columns. In every well, the same assay is performed for diﬀerent compounds in order to identify hits that show a measurable eﬀect. Normally, a reference compound with known eﬀect (the so-called positive control) is also tested on every plate.\n",
    "\n",
    "The result of an HTS run is one output file per plate, which contain the measurement values. This raw data has to be analyzed in order to select final hits for follow-up experiments. HTS data analysis is a standard task in pharmaceutical research informatics and it is the content of this task. The provided archive file screening_plates.tar.gz contains raw data files of 500 screening plates, which have the following format:\n",
    "  - Column 1 contains positive controls\n",
    "  - Column 24 contains negative controls\n",
    "  - Remaining columns contain samples, i.e. compounds to be tested\n",
    "  - The column with name ’Sample’ contains the compound ID or indicates a control\n",
    " \n",
    "Please implement HTS data analysis for this dataset and select the hits(so-called hit picking) in a well-documented Python Notebook.'"
   ],
   "metadata": {
    "collapsed": false
   },
   "id": "70c5868451c802d2"
  },
  {
   "cell_type": "markdown",
   "source": [
    "1. [3 pt] The parameter z′ (aka Z-Prime or Z’-Factor) is used to assess the quality of a screening plate. Please\n",
    "find the definition of z′ and calculate it for every plate. Split the data set into plates with ’good’ assay quality\n",
    "(z′ > 0.5) and ’bad’ assay quality (z′ ≤ 0.5). Print the Plate_IDs of the ’bad’ plates to the command line\n",
    "(comma-separated)"
   ],
   "metadata": {
    "collapsed": false
   },
   "id": "dbbf33ddc63f8580"
  },
  {
   "cell_type": "code",
   "execution_count": null,
   "outputs": [],
   "source": [],
   "metadata": {
    "collapsed": false
   },
   "id": "b93da65a617dcd11"
  },
  {
   "cell_type": "markdown",
   "source": [
    "2. [3 pt] Visualize one ’good’ and one ’bad’ screening plate by generating heat maps. Please inspect the heat\n",
    "maps to identify the reason for bad assay quality. Briefly describe your reasoning."
   ],
   "metadata": {
    "collapsed": false
   },
   "id": "48937c7849338fe5"
  },
  {
   "cell_type": "code",
   "execution_count": null,
   "outputs": [],
   "source": [],
   "metadata": {
    "collapsed": false
   },
   "id": "a98396918ac2f6af"
  },
  {
   "cell_type": "markdown",
   "source": [
    "3. [3pt]Normalizethe’good’platesusingnormalizedpercentinhibition(compoundsignal). Pickhitsbyremoving\n",
    "compounds with values < 70% NPI."
   ],
   "metadata": {
    "collapsed": false
   },
   "id": "d2468df548ece788"
  },
  {
   "cell_type": "code",
   "execution_count": null,
   "outputs": [],
   "source": [],
   "metadata": {
    "collapsed": false
   },
   "id": "e404d481f6e65480"
  },
  {
   "cell_type": "markdown",
   "source": [
    "4. [3 pt] Normalize the ’bad’ plates using z-score normalization (per plate). Pick hits by removing compounds\n",
    "with z-score < 8.0."
   ],
   "metadata": {
    "collapsed": false
   },
   "id": "348988a3b23eaf30"
  },
  {
   "cell_type": "code",
   "execution_count": null,
   "outputs": [],
   "source": [],
   "metadata": {
    "collapsed": false
   },
   "id": "b54d3f71c5347ca9"
  },
  {
   "cell_type": "markdown",
   "source": [
    "5. [1 pt] Why can z-score normalization be used in this case?"
   ],
   "metadata": {
    "collapsed": false
   },
   "id": "eba66c57e2a5e50f"
  },
  {
   "cell_type": "code",
   "execution_count": null,
   "outputs": [],
   "source": [],
   "metadata": {
    "collapsed": false
   },
   "id": "3d9b12fe7d3aef74"
  },
  {
   "cell_type": "markdown",
   "source": [
    "6. Your script shall print the hit list to the command line in the format:"
   ],
   "metadata": {
    "collapsed": false
   },
   "id": "32738e1753323599"
  },
  {
   "cell_type": "code",
   "execution_count": 2,
   "outputs": [],
   "source": [
    "#<sample> <normalization method> <normalized_value>"
   ],
   "metadata": {
    "collapsed": false,
    "ExecuteTime": {
     "end_time": "2025-05-16T15:05:15.893998Z",
     "start_time": "2025-05-16T15:05:15.890863Z"
    }
   },
   "id": "e6c5d99eef906ba3"
  },
  {
   "cell_type": "code",
   "execution_count": null,
   "outputs": [],
   "source": [],
   "metadata": {
    "collapsed": false
   },
   "id": "7ca5a96080ce729b"
  }
 ],
 "metadata": {
  "kernelspec": {
   "display_name": "Python 3",
   "language": "python",
   "name": "python3"
  },
  "language_info": {
   "codemirror_mode": {
    "name": "ipython",
    "version": 2
   },
   "file_extension": ".py",
   "mimetype": "text/x-python",
   "name": "python",
   "nbconvert_exporter": "python",
   "pygments_lexer": "ipython2",
   "version": "2.7.6"
  }
 },
 "nbformat": 4,
 "nbformat_minor": 5
}
