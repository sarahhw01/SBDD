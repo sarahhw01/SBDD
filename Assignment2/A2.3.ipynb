{
 "cells": [
  {
   "cell_type": "code",
   "execution_count": 5,
   "id": "initial_id",
   "metadata": {
    "collapsed": true,
    "ExecuteTime": {
     "end_time": "2025-05-01T13:48:52.586835Z",
     "start_time": "2025-05-01T13:48:51.557525Z"
    }
   },
   "outputs": [
    {
     "name": "stdout",
     "output_type": "stream",
     "text": [
      "zsh:1: 2.0 not found\r\n",
      "Requirement already satisfied: biotite in /Users/mattes/opt/anaconda3/envs/SBDD/lib/python3.9/site-packages (0.40.0)\r\n",
      "Requirement already satisfied: requests>=2.12 in /Users/mattes/opt/anaconda3/envs/SBDD/lib/python3.9/site-packages (from biotite) (2.32.3)\r\n",
      "Requirement already satisfied: numpy<=2.0,>=1.14.5 in /Users/mattes/opt/anaconda3/envs/SBDD/lib/python3.9/site-packages (from biotite) (2.0.0)\r\n",
      "Requirement already satisfied: msgpack>=0.5.6 in /Users/mattes/opt/anaconda3/envs/SBDD/lib/python3.9/site-packages (from biotite) (1.1.0)\r\n",
      "Requirement already satisfied: networkx>=2.0 in /Users/mattes/opt/anaconda3/envs/SBDD/lib/python3.9/site-packages (from biotite) (3.2.1)\r\n",
      "Requirement already satisfied: charset-normalizer<4,>=2 in /Users/mattes/opt/anaconda3/envs/SBDD/lib/python3.9/site-packages (from requests>=2.12->biotite) (3.3.2)\r\n",
      "Requirement already satisfied: idna<4,>=2.5 in /Users/mattes/opt/anaconda3/envs/SBDD/lib/python3.9/site-packages (from requests>=2.12->biotite) (3.7)\r\n",
      "Requirement already satisfied: urllib3<3,>=1.21.1 in /Users/mattes/opt/anaconda3/envs/SBDD/lib/python3.9/site-packages (from requests>=2.12->biotite) (2.3.0)\r\n",
      "Requirement already satisfied: certifi>=2017.4.17 in /Users/mattes/opt/anaconda3/envs/SBDD/lib/python3.9/site-packages (from requests>=2.12->biotite) (2025.4.26)\r\n"
     ]
    }
   ],
   "source": [
    "# Install packages\n",
    "!pip install numpy==1.21.3\n",
    "!pip install biotite"
   ]
  },
  {
   "cell_type": "code",
   "execution_count": 1,
   "outputs": [],
   "source": [
    "import biotite\n",
    "import biotite.database.rcsb as rcsb"
   ],
   "metadata": {
    "collapsed": false,
    "ExecuteTime": {
     "end_time": "2025-05-01T13:57:34.374086Z",
     "start_time": "2025-05-01T13:57:21.164839Z"
    }
   },
   "id": "1e31b70b98bdf401"
  },
  {
   "cell_type": "code",
   "execution_count": 59,
   "outputs": [],
   "source": [
    "# Define queries\n",
    "uniProtId = rcsb.BasicQuery(\"P06239\")\n",
    "xrayChrist = rcsb.FieldQuery(\"exptl.method\", exact_match=\"X-RAY DIFFRACTION\") # There was no experimental method for x-ray Crystallography\n",
    "resolution = rcsb.FieldQuery(\"rcsb_entry_info.resolution_combined\", less_or_equal=3)\n",
    "numChains = rcsb.FieldQuery(\"rcsb_entry_info.deposited_polymer_entity_instance_count\", equals=1)\n",
    "smallLigand = rcsb.FieldQuery(\"rcsb_entry_info.nonpolymer_entity_count\", greater=0)\n",
    "smallLigandWeight = rcsb.FieldQuery(\"rcsb_entry_info.nonpolymer_molecular_weight_minimum\", greater=0.48) # 480 DA = 0.48 kDa\n",
    "\n",
    "# Combine queries\n",
    "composite_query = uniProtId & xrayChrist & resolution & numChains & smallLigand & smallLigandWeight"
   ],
   "metadata": {
    "collapsed": false,
    "ExecuteTime": {
     "end_time": "2025-05-01T14:31:41.540593Z",
     "start_time": "2025-05-01T14:31:41.536736Z"
    }
   },
   "id": "e3bd679c6ed0dff7"
  },
  {
   "cell_type": "code",
   "execution_count": 63,
   "outputs": [
    {
     "name": "stdout",
     "output_type": "stream",
     "text": [
      "['1IJR', '2PL0', '3B2W', '3BYS', '3BYU']\n"
     ]
    }
   ],
   "source": [
    "# Run Query\n",
    "pdb_ids = rcsb.search(composite_query)\n",
    "print(pdb_ids)"
   ],
   "metadata": {
    "collapsed": false,
    "ExecuteTime": {
     "end_time": "2025-05-01T14:36:43.175535Z",
     "start_time": "2025-05-01T14:36:37.991152Z"
    }
   },
   "id": "36fa289f20161d86"
  },
  {
   "cell_type": "code",
   "execution_count": 62,
   "outputs": [
    {
     "data": {
      "text/plain": "['pdb_files/1IJR.cif',\n 'pdb_files/2PL0.cif',\n 'pdb_files/3B2W.cif',\n 'pdb_files/3BYS.cif',\n 'pdb_files/3BYU.cif']"
     },
     "execution_count": 62,
     "metadata": {},
     "output_type": "execute_result"
    }
   ],
   "source": [
    "# Fetch entries (Optional)\n",
    "#rcsb.fetch(pdb_ids, \"cif\", \"pdb_files\")"
   ],
   "metadata": {
    "collapsed": false,
    "ExecuteTime": {
     "end_time": "2025-05-01T14:35:48.256508Z",
     "start_time": "2025-05-01T14:35:41.458358Z"
    }
   },
   "id": "892b676407b3d54e"
  },
  {
   "cell_type": "code",
   "execution_count": null,
   "outputs": [],
   "source": [],
   "metadata": {
    "collapsed": false
   },
   "id": "5ed90f7cee719c13"
  }
 ],
 "metadata": {
  "kernelspec": {
   "display_name": "Python 3",
   "language": "python",
   "name": "python3"
  },
  "language_info": {
   "codemirror_mode": {
    "name": "ipython",
    "version": 2
   },
   "file_extension": ".py",
   "mimetype": "text/x-python",
   "name": "python",
   "nbconvert_exporter": "python",
   "pygments_lexer": "ipython2",
   "version": "2.7.6"
  }
 },
 "nbformat": 4,
 "nbformat_minor": 5
}
