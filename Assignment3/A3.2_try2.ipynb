{
 "cells": [
  {
   "cell_type": "markdown",
   "id": "d4b16742",
   "metadata": {},
   "source": [
    "# A.3.2: Predicting Off-Targets"
   ]
  },
  {
   "cell_type": "markdown",
   "id": "a22c5363",
   "metadata": {},
   "source": [
    "### Retrieve Imatinib-Binding Proteins from the PDB"
   ]
  },
  {
   "cell_type": "code",
   "execution_count": 33,
   "id": "05d18950",
   "metadata": {},
   "outputs": [],
   "source": [
    "# imports\n",
    "import biotite.database.rcsb as rcsb\n",
    "import biotite.structure.io.pdbx as pdbx\n",
    "import os\n",
    "from biotite.structure import superimpose_homologs, rmsd, superimpose_structural_homologs\n",
    "import numpy as np"
   ]
  },
  {
   "cell_type": "code",
   "execution_count": 23,
   "id": "8eabfa4b",
   "metadata": {},
   "outputs": [],
   "source": [
    "# Define queries\n",
    "xrayChrist = rcsb.FieldQuery(\"exptl.method\", exact_match=\"X-RAY DIFFRACTION\")\n",
    "resolution = rcsb.FieldQuery(\"rcsb_entry_info.resolution_combined\", less_or_equal=3)\n",
    "ImatinibLigand = rcsb.FieldQuery(\"rcsb_nonpolymer_entity_container_identifiers.nonpolymer_comp_id\", exact_match=\"STI\")\n",
    "#ImatinibLigand = rcsb.FieldQuery(\"rcsb_nonpolymer_entity_annotation.comp_id\", exact_match=\"STI\")\n",
    "ranking = rcsb.FieldQuery(\"rcsb_nonpolymer_instance_validation_score.ranking_model_fit\", greater_or_equal=0.5) \n",
    "\n",
    "# Combine queries\n",
    "composite_query = xrayChrist & resolution & ImatinibLigand & ranking"
   ]
  },
  {
   "cell_type": "code",
   "execution_count": 24,
   "id": "8aac69a0",
   "metadata": {},
   "outputs": [
    {
     "name": "stdout",
     "output_type": "stream",
     "text": [
      "['1IEP', '1OPJ', '1T46', '2HYY', '2OIQ', '2PL0', '3FW1', '3GVU', '3K5V', '3MS9', '3MSS', '3OEZ', '3PYY', '4BKJ', '4CSV', '4R7I', '6HD4', '6HD6', '6JOL', '6NPE', '6NPU', '6NPV', '7N9G']\n",
      "23\n"
     ]
    }
   ],
   "source": [
    "# Run Query\n",
    "pdb_ids = rcsb.search(composite_query)\n",
    "print(pdb_ids)\n",
    "print(len(pdb_ids))"
   ]
  },
  {
   "cell_type": "markdown",
   "id": "49de4256",
   "metadata": {},
   "source": [
    "### Read & Filter Structures"
   ]
  },
  {
   "cell_type": "code",
   "execution_count": 25,
   "id": "11b4eb09",
   "metadata": {},
   "outputs": [
    {
     "name": "stdout",
     "output_type": "stream",
     "text": [
      "\n",
      "Successfully filtered 23 structures.\n"
     ]
    }
   ],
   "source": [
    "# Create directory for structure downloads\n",
    "os.makedirs(\"pdb_files\", exist_ok=True)\n",
    "\n",
    "filtered_structures = []\n",
    "\n",
    "for pdb_id in pdb_ids:\n",
    "    try:\n",
    "        file_path = rcsb.fetch(pdb_id, \"cif\", \"pdb_files\") # fetch entry\n",
    "        pdbx_file = pdbx.CIFFile.read(file_path)\n",
    "        structure = pdbx.get_structure(pdbx_file, model=1)\n",
    "        \n",
    "        # Only keep first chain\n",
    "        first_chain = structure[structure.chain_id == \"A\"]\n",
    "        filtered_structures.append((pdb_id, first_chain))\n",
    "    except Exception as e:\n",
    "        print(f\"Error processing {pdb_id}: {e}\")\n",
    "\n",
    "print(f\"\\nSuccessfully filtered {len(filtered_structures)} structures.\")"
   ]
  },
  {
   "cell_type": "markdown",
   "id": "f899ed5a",
   "metadata": {},
   "source": [
    "### Structural Comparison"
   ]
  },
  {
   "cell_type": "code",
   "execution_count": 39,
   "id": "aac763cd",
   "metadata": {},
   "outputs": [
    {
     "name": "stdout",
     "output_type": "stream",
     "text": [
      "Error processing protein 5 & 6: 2PL0 & 3FW1: Tried fallback due to low anchor number, but number of backbone atoms does not match\n",
      "Error processing protein 6 & 13: 3FW1 & 4BKJ: Tried fallback due to low anchor number, but number of backbone atoms does not match\n",
      "Error processing protein 6 & 14: 3FW1 & 4CSV: Tried fallback due to low anchor number, but number of backbone atoms does not match\n"
     ]
    }
   ],
   "source": [
    "n = len(filtered_structures)\n",
    "\n",
    "# initialize matrix to store rmsd values\n",
    "rmsd_matrix = np.zeros((n, n))\n",
    "\n",
    "for i in range(len(filtered_structures)):\n",
    "    for j in range(i + 1, len(filtered_structures)):\n",
    "        try:\n",
    "            fixed = filtered_structures[i][1]\n",
    "            mobile = filtered_structures[j][1]\n",
    "\n",
    "            # superimpose \n",
    "            fitted, transform, fixed_anchor_indices, mobile_anchor_indices = superimpose_homologs(fixed, mobile)\n",
    "            rmsd_val = rmsd(fixed[fixed_anchor_indices], mobile[mobile_anchor_indices])\n",
    "            rmsd_matrix[i][j] = rmsd_val\n",
    "            rmsd_matrix[j][i] = rmsd_val\n",
    "        except Exception as e:\n",
    "            print(f\"Error processing protein {i} & {j}: {filtered_structures[i][0]} & {filtered_structures[j][0]}: {e}\")"
   ]
  },
  {
   "cell_type": "code",
   "execution_count": null,
   "id": "70e83da6",
   "metadata": {},
   "outputs": [
    {
     "name": "stdout",
     "output_type": "stream",
     "text": [
      "\n",
      "Average RMSD for each protein structure:\n",
      "1IEP: 58.528 Å\n",
      "1OPJ: 56.191 Å\n",
      "1T46: 53.715 Å\n",
      "2HYY: 48.601 Å\n",
      "2OIQ: 67.488 Å\n",
      "2PL0: 52.601 Å\n",
      "3FW1: 50.165 Å\n",
      "3GVU: 50.999 Å\n",
      "3K5V: 57.024 Å\n",
      "3MS9: 58.864 Å\n",
      "3MSS: 60.090 Å\n",
      "3OEZ: 52.440 Å\n",
      "3PYY: 58.926 Å\n",
      "4BKJ: 55.571 Å\n",
      "4CSV: 63.778 Å\n",
      "4R7I: 84.718 Å\n",
      "6HD4: 56.661 Å\n",
      "6HD6: 57.482 Å\n",
      "6JOL: 148.417 Å\n",
      "6NPE: 59.453 Å\n",
      "6NPU: 59.262 Å\n",
      "6NPV: 59.134 Å\n",
      "7N9G: 71.336 Å\n"
     ]
    }
   ],
   "source": [
    "missing_i = 6\n",
    "missing_j = (5, 13, 14)\n",
    "\n",
    "for j in missing_j:\n",
    "    try:\n",
    "        fixed = filtered_structures[missing_i][1]\n",
    "        mobile = filtered_structures[j][1]\n",
    "\n",
    "        # superimpose (allow less sequence similarity)\n",
    "        fitted, transform, fixed_anchor_indices, mobile_anchor_indices = superimpose_structural_homologs(fixed, mobile)\n",
    "        rmsd_val = rmsd(fixed[fixed_anchor_indices], mobile[mobile_anchor_indices])\n",
    "        rmsd_matrix[missing_i][j] = rmsd_val\n",
    "        rmsd_matrix[j][missing_i] = rmsd_val\n",
    "    except Exception as e:\n",
    "        print(f\"Error processing protein {missing_i} & {j}: {filtered_structures[missing_i][0]} & {filtered_structures[j][0]}: {e}\")\n",
    "\n",
    "# calculate average RMSD for every protein\n",
    "average_rmsds = np.mean(rmsd_matrix, axis=1)\n",
    "\n",
    "print(\"\\nAverage RMSD for each protein structure:\")\n",
    "for i, (pdb_id, _) in enumerate(filtered_structures):\n",
    "    print(f\"{pdb_id}: {average_rmsds[i]:.3f} Å\")"
   ]
  },
  {
   "cell_type": "markdown",
   "id": "e12eda35",
   "metadata": {},
   "source": [
    "### Identify Oﬀ-Target Candidates"
   ]
  },
  {
   "cell_type": "code",
   "execution_count": 41,
   "id": "9182ad9f",
   "metadata": {},
   "outputs": [
    {
     "name": "stdout",
     "output_type": "stream",
     "text": [
      "\n",
      "Potential outlier structures/off-target candidates:\n",
      "6JOL: avg RMSD = 148.417 Å\n"
     ]
    }
   ],
   "source": [
    "mean_rmsd = np.mean(average_rmsds)\n",
    "std_rmsd = np.std(average_rmsds)\n",
    "\n",
    "# identify outliers\n",
    "outlier_indices = np.where(average_rmsds > mean_rmsd + 2 * std_rmsd)[0]\n",
    "\n",
    "print(\"\\nPotential outlier structures/off-target candidates:\")\n",
    "for idx in outlier_indices:\n",
    "    pdb_id = filtered_structures[idx][0]\n",
    "    print(f\"{pdb_id}: avg RMSD = {average_rmsds[idx]:.3f} Å\")"
   ]
  },
  {
   "cell_type": "markdown",
   "id": "f2333b8e",
   "metadata": {},
   "source": [
    "Since Imatinib is a kinase inhibitor which selectively binds to the structurally conserved ATP-binding site of tyrosine kinases, its on-target structures comprise kinases. These structures resemble each other since they have the same function. Off-target structures still bind Imatinib unintendedly, probably because they share similar binding sites or structural motifs that allow ligand-protein interactions. Because these off-target structures have a different function, also their structure is different. Thus, the average RMSD of pairwise superimposed structures is higher. "
   ]
  },
  {
   "cell_type": "markdown",
   "id": "6cca9878",
   "metadata": {},
   "source": [
    "### Oﬀ-Target Validation"
   ]
  },
  {
   "cell_type": "markdown",
   "id": "33f27a41",
   "metadata": {},
   "source": [
    "3J0L is the PDB ID for intracellular B30.2 domain of butyrophilin 3A3 mutant [1]. Upon binding of phosphoantigens to the domain, γδ T cells were shown to be activated [2]. \n",
    "\n",
    "As 3FW1 was involved in all cases of failed homolog superposition, we also looked deeper into this. Probably, the second approach using superimpose_structural_homologs() was not the right thing to do, since this led to shadowing of an off-target. 3FW1 is the PDB ID for Quinone Reductase 2 [3]. It is classified as oxidoreductase (NQO2) and therefore an off-target. Imatinib competitively inhibits NQO2, making treatment of chronic myeloid leukemia and other cancers with Imatinib more challenging [4].\n",
    "\n",
    "[1] https://www.rcsb.org/structure/6J0L \\\n",
    "[2] Yang Y. et al. A Structural Change in Butyrophilin upon Phosphoantigen Binding Underlies Phosphoantigen-Mediated Vγ9Vδ2 T Cell Activation. Immunity. 2019 Apr 16;50(4):1043-1053.e5. doi: 10.1016/j.immuni.2019.02.016. Epub 2019 Mar 19. PMID: 30902636. \\\n",
    "[3] https://www.rcsb.org/structure/3FW1 \\\n",
    "[4] Winger J. A. et al. The structure of the leukemia drug imatinib bound to human quinone reductase 2 (NQO2). BMC Struct Biol. 2009 Feb 24;9:7. doi: 10.1186/1472-6807-9-7. PMID: 19236722; PMCID: PMC2655291."
   ]
  }
 ],
 "metadata": {
  "kernelspec": {
   "display_name": "sbdd",
   "language": "python",
   "name": "python3"
  },
  "language_info": {
   "codemirror_mode": {
    "name": "ipython",
    "version": 3
   },
   "file_extension": ".py",
   "mimetype": "text/x-python",
   "name": "python",
   "nbconvert_exporter": "python",
   "pygments_lexer": "ipython3",
   "version": "3.12.9"
  }
 },
 "nbformat": 4,
 "nbformat_minor": 5
}
