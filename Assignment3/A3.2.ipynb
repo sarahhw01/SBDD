{
 "cells": [
  {
   "cell_type": "markdown",
   "id": "d4b16742",
   "metadata": {},
   "source": [
    "# A.3.2: Predicting Off-Targets"
   ]
  },
  {
   "cell_type": "markdown",
   "id": "a22c5363",
   "metadata": {},
   "source": [
    "### Retrieve Imatinib-Binding Proteins from the PDB"
   ]
  },
  {
   "cell_type": "code",
   "execution_count": 16,
   "id": "05d18950",
   "metadata": {},
   "outputs": [],
   "source": [
    "# imports\n",
    "import biotite.database.rcsb as rcsb\n",
    "import biotite.structure.io.pdbx as pdbx\n",
    "import os\n",
    "from biotite.structure import superimpose, rmsd\n",
    "import numpy as np"
   ]
  },
  {
   "cell_type": "code",
   "execution_count": 17,
   "id": "8eabfa4b",
   "metadata": {},
   "outputs": [],
   "source": [
    "# Define queries\n",
    "xrayChrist = rcsb.FieldQuery(\"exptl.method\", exact_match=\"X-RAY DIFFRACTION\")\n",
    "resolution = rcsb.FieldQuery(\"rcsb_entry_info.resolution_combined\", less_or_equal=3)\n",
    "ImatinibLigand = rcsb.FieldQuery(\"rcsb_nonpolymer_entity_container_identifiers.nonpolymer_comp_id\", exact_match=\"STI\")\n",
    "#ImatinibLigand = rcsb.FieldQuery(\"rcsb_nonpolymer_entity_annotation.comp_id\", exact_match=\"STI\")\n",
    "ranking = rcsb.FieldQuery(\"rcsb_nonpolymer_instance_validation_score.ranking_model_fit\", greater_or_equal=0.5) \n",
    "\n",
    "# Combine queries\n",
    "composite_query = xrayChrist & resolution & ImatinibLigand & ranking"
   ]
  },
  {
   "cell_type": "code",
   "execution_count": 18,
   "id": "8aac69a0",
   "metadata": {},
   "outputs": [
    {
     "name": "stdout",
     "output_type": "stream",
     "text": [
      "['1IEP', '1OPJ', '1T46', '2HYY', '2OIQ', '2PL0', '3FW1', '3GVU', '3K5V', '3MS9', '3MSS', '3OEZ', '3PYY', '4BKJ', '4CSV', '4R7I', '6HD4', '6HD6', '6JOL', '6NPE', '6NPU', '6NPV', '7N9G']\n",
      "23\n"
     ]
    }
   ],
   "source": [
    "# Run Query\n",
    "pdb_ids = rcsb.search(composite_query)\n",
    "print(pdb_ids)\n",
    "print(len(pdb_ids))"
   ]
  },
  {
   "cell_type": "markdown",
   "id": "49de4256",
   "metadata": {},
   "source": [
    "### Read & Filter Structures"
   ]
  },
  {
   "cell_type": "code",
   "execution_count": 19,
   "id": "11b4eb09",
   "metadata": {},
   "outputs": [
    {
     "name": "stdout",
     "output_type": "stream",
     "text": [
      "\n",
      "Successfully filtered 23 structures.\n"
     ]
    }
   ],
   "source": [
    "# Create directory for structure downloads\n",
    "os.makedirs(\"pdb_files\", exist_ok=True)\n",
    "\n",
    "filtered_structures = []\n",
    "\n",
    "for pdb_id in pdb_ids:\n",
    "    try:\n",
    "        file_path = rcsb.fetch(pdb_id, \"cif\", \"pdb_files\") # fetch entry\n",
    "        pdbx_file = pdbx.CIFFile.read(file_path)\n",
    "        structure = pdbx.get_structure(pdbx_file, model=1)\n",
    "        \n",
    "        # Only keep first chain\n",
    "        first_chain = structure[structure.chain_id == \"A\"]\n",
    "        filtered_structures.append((pdb_id, first_chain))\n",
    "    except Exception as e:\n",
    "        print(f\"Error processing {pdb_id}: {e}\")\n",
    "\n",
    "print(f\"\\nSuccessfully filtered {len(filtered_structures)} structures.\")"
   ]
  },
  {
   "cell_type": "markdown",
   "id": "f899ed5a",
   "metadata": {},
   "source": [
    "### Structural Comparison"
   ]
  },
  {
   "cell_type": "code",
   "execution_count": 20,
   "id": "aac763cd",
   "metadata": {},
   "outputs": [
    {
     "name": "stdout",
     "output_type": "stream",
     "text": [
      "\n",
      "Average RMSD for each protein structure:\n",
      "1IEP: 15.446 Å\n",
      "1OPJ: 15.904 Å\n",
      "1T46: 19.888 Å\n",
      "2HYY: 16.215 Å\n",
      "2OIQ: 16.222 Å\n",
      "2PL0: 15.161 Å\n",
      "3FW1: 20.147 Å\n",
      "3GVU: 16.259 Å\n",
      "3K5V: 16.050 Å\n",
      "3MS9: 15.649 Å\n",
      "3MSS: 15.420 Å\n",
      "3OEZ: 16.491 Å\n",
      "3PYY: 15.354 Å\n",
      "4BKJ: 18.246 Å\n",
      "4CSV: 16.570 Å\n",
      "4R7I: 17.095 Å\n",
      "6HD4: 16.205 Å\n",
      "6HD6: 16.000 Å\n",
      "6JOL: 15.282 Å\n",
      "6NPE: 15.303 Å\n",
      "6NPU: 14.793 Å\n",
      "6NPV: 15.737 Å\n",
      "7N9G: 16.463 Å\n"
     ]
    }
   ],
   "source": [
    "n = len(filtered_structures)\n",
    "\n",
    "# initialize matrix to store rmsd values\n",
    "rmsd_matrix = np.zeros((n, n))\n",
    "\n",
    "for i in range(len(filtered_structures)):\n",
    "    for j in range(i + 1, len(filtered_structures)):\n",
    "        fixed = filtered_structures[i][1]\n",
    "        moving = filtered_structures[j][1]\n",
    "\n",
    "        # ensure same number of atoms (cut to shortest protein of both)\n",
    "        min_len = min(len(fixed), len(moving))\n",
    "        fixed_coordinates = fixed.coord[:min_len]\n",
    "        moving_coordinates = moving.coord[:min_len]\n",
    "\n",
    "        # superimpose \n",
    "        fitted, transformation = superimpose(fixed_coordinates, moving_coordinates)\n",
    "        rmsd_val = rmsd(fixed_coordinates, fitted)\n",
    "        rmsd_matrix[i][j] = rmsd_val\n",
    "        rmsd_matrix[j][i] = rmsd_val\n",
    "\n",
    "# calculate average RMSD for every protein\n",
    "average_rmsds = rmsd_matrix.sum(axis=1) / (n - 1)\n",
    "\n",
    "print(\"\\nAverage RMSD for each protein structure:\")\n",
    "for i, (pdb_id, _) in enumerate(filtered_structures):\n",
    "    print(f\"{pdb_id}: {average_rmsds[i]:.3f} Å\")"
   ]
  },
  {
   "cell_type": "markdown",
   "id": "e12eda35",
   "metadata": {},
   "source": [
    "### Identify Oﬀ-Target Candidates"
   ]
  },
  {
   "cell_type": "code",
   "execution_count": 21,
   "id": "9182ad9f",
   "metadata": {},
   "outputs": [
    {
     "name": "stdout",
     "output_type": "stream",
     "text": [
      "\n",
      "Potential outlier structures/off-target candidates:\n",
      "1T46: avg RMSD = 19.888 Å\n",
      "3FW1: avg RMSD = 20.147 Å\n"
     ]
    }
   ],
   "source": [
    "mean_rmsd = np.mean(average_rmsds)\n",
    "std_rmsd = np.std(average_rmsds)\n",
    "\n",
    "# identify outliers\n",
    "outlier_indices = np.where(average_rmsds > mean_rmsd + 2 * std_rmsd)[0]\n",
    "\n",
    "print(\"\\nPotential outlier structures/off-target candidates:\")\n",
    "for idx in outlier_indices:\n",
    "    pdb_id = filtered_structures[idx][0]\n",
    "    print(f\"{pdb_id}: avg RMSD = {average_rmsds[idx]:.3f} Å\")"
   ]
  },
  {
   "cell_type": "markdown",
   "id": "f2333b8e",
   "metadata": {},
   "source": [
    "Since Imatinib is a kinase inhibitor which selectively binds to the structurally conserved ATP-binding site of tyrosine kinases, its on-target structures comprise kinases. These structures resemble each other since they have the same function. Off-target structures still bind Imatinib unintendedly, probably because they share similar binding sites or structural motifs that allow ligand-protein interactions. Because these off-target structures have a different function, also their structure is different. Thus, the average RMSD of pairwise superimposed structures is higher. "
   ]
  },
  {
   "cell_type": "markdown",
   "id": "6cca9878",
   "metadata": {},
   "source": [
    "### Oﬀ-Target Validation"
   ]
  },
  {
   "cell_type": "markdown",
   "id": "33f27a41",
   "metadata": {},
   "source": [
    "1T46 is the PDB ID for c-Kit [1]. c-Kit was crystallized in an autoinhibited state, where the juxtamembrane region of c-Kit inserts into the active site. This way, structural rearrangements needed for activation are blocked [2]. Since this autoinhibited conformation is distinct from the active kinase conformations, and c-Kit belongs to the Type III transmembrane RPTK subfamily, 1T46 was identified as off-target.\n",
    "\n",
    "3FW1 is the PDB ID for Quinone Reductase 2 [3]. It is classified as oxidoreductase (NQO2) and therefore an off-target. Imatinib competitively inhibits NQO2, making treatment of chronic myeloid leukemia and other cancers with Imatinib more challenging [4].\n",
    "\n",
    "[1] https://www.rcsb.org/structure/1T46 \\\n",
    "[2] Mol C. D. et al. Structural Basis for the Autoinhibition and STI-571 Inhibition of c-Kit Tyrosine Kinase. Journal of Biological Chemistry. 2004 Jul. Vol 279, Issue 30, P31655-31663. doi: 10.1074/jbc.M403319200 \\\n",
    "[3] https://www.rcsb.org/structure/3FW1 \\\n",
    "[4] Winger J. A. et al. The structure of the leukemia drug imatinib bound to human quinone reductase 2 (NQO2). BMC Struct Biol. 2009 Feb 24;9:7. doi: 10.1186/1472-6807-9-7. PMID: 19236722; PMCID: PMC2655291."
   ]
  }
 ],
 "metadata": {
  "kernelspec": {
   "display_name": "sbdd",
   "language": "python",
   "name": "python3"
  },
  "language_info": {
   "codemirror_mode": {
    "name": "ipython",
    "version": 3
   },
   "file_extension": ".py",
   "mimetype": "text/x-python",
   "name": "python",
   "nbconvert_exporter": "python",
   "pygments_lexer": "ipython3",
   "version": "3.10.17"
  }
 },
 "nbformat": 4,
 "nbformat_minor": 5
}
